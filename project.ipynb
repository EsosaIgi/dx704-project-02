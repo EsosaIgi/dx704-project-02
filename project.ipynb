{
  "cells": [
    {
      "cell_type": "markdown",
      "metadata": {
        "id": "7aZ_blKrRZ3H"
      },
      "source": [
        "# DX 704 Week 2 Project\n",
        "\n",
        "This week's project will analyze fresh strawberry price data for a hypothetical \"buy low, freeze, and sell high\" business.\n",
        "Strawberries show strong seasonality in their prices compared to other fruits.\n",
        "\n",
        "![](https://ers.usda.gov/sites/default/files/_laserfiche/Charts/61401/oct14_finding_plattner_fig01.png)\n",
        "\n",
        "Image source: https://www.ers.usda.gov/amber-waves/2014/october/seasonal-fresh-fruit-price-patterns-differ-across-commodities-the-case-of-strawberries-and-apples\n",
        "\n",
        "You are considering a business where you buy strawberries when the prices are very low, carefully freeze them, even more carefully defrost them, and then sell them when the prices are high.\n",
        "You will forecast strawberry price time series and then use them to tactically pick times to buy, freeze, and sell the strawberries."
      ]
    },
    {
      "cell_type": "markdown",
      "metadata": {
        "id": "g1rddBd6_teG"
      },
      "source": [
        "The full project description, a template notebook, and raw data are available on GitHub at the following link.\n",
        "\n",
        "https://github.com/bu-cds-dx704/dx704-project-02\n"
      ]
    },
    {
      "cell_type": "markdown",
      "metadata": {},
      "source": [
        "### Example Code\n",
        "\n",
        "You may find it helpful to refer to these GitHub repositories of Jupyter notebooks for example code.\n",
        "\n",
        "* https://github.com/bu-cds-omds/dx601-examples\n",
        "* https://github.com/bu-cds-omds/dx602-examples\n",
        "* https://github.com/bu-cds-omds/dx603-examples\n",
        "* https://github.com/bu-cds-omds/dx704-examples\n",
        "\n",
        "Any calculations demonstrated in code examples or videos may be found in these notebooks, and you are allowed to copy this example code in your homework answers."
      ]
    },
    {
      "cell_type": "markdown",
      "metadata": {
        "id": "B7jHqNiZBXzD"
      },
      "source": [
        "## Part 1: Backtest Strawberry Prices\n",
        "\n",
        "Read the provided \"strawberry-prices.tsv\" with data from 2020 through 2024.\n",
        "This data is based on data from the U.S. Bureau of Statistics, but transformed so the ground truth is not online.\n",
        "https://fred.stlouisfed.org/series/APU0000711415\n",
        "\n",
        "Use the data for 2020 through 2023 to predict monthly prices in 2024.\n",
        "Spend some time to make sure you are happy with your methodology and prediction accuracy, since you will reuse the methodology to forecast 2025 next.\n",
        "Save the 2024 backtest predictions as \"strawberry-backtest.tsv\" with columns month and price.\n"
      ]
    },
    {
      "cell_type": "code",
      "execution_count": 1,
      "metadata": {
        "id": "T8OLCmHbiaoK"
      },
      "outputs": [
        {
          "name": "stdout",
          "output_type": "stream",
          "text": [
            "Wrote strawberry-backtest.tsv\n"
          ]
        }
      ],
      "source": [
        "# YOUR CHANGES HERE\n",
        "\n",
        "import pandas as pd\n",
        "from pathlib import Path\n",
        "\n",
        "# Load the price series (expects columns: month, price)\n",
        "def _load_prices(path=\"strawberry-prices.tsv\"):\n",
        "    p = Path(path)\n",
        "    if not p.exists():\n",
        "        raise FileNotFoundError(\"strawberry-prices.tsv not found next to this notebook.\")\n",
        "    df = pd.read_csv(p, sep=\"\\t\")\n",
        "    if \"month\" not in df.columns or \"price\" not in df.columns:\n",
        "        raise ValueError(\"Expected columns 'month' and 'price' in strawberry-prices.tsv\")\n",
        "    df[\"month\"] = pd.to_datetime(df[\"month\"]).dt.to_period(\"M\")\n",
        "    df = df.sort_values(\"month\").reset_index(drop=True)\n",
        "    df[\"price\"] = df[\"price\"].astype(float)\n",
        "    return df\n",
        "\n",
        "df = _load_prices()\n",
        "\n",
        "# Split training (2020–2023) and test year (2024)\n",
        "train = df[(df[\"month\"] >= \"2020-01\") & (df[\"month\"] <= \"2023-12\")].copy()\n",
        "test_2024 = df[(df[\"month\"] >= \"2024-01\") & (df[\"month\"] <= \"2024-12\")].copy()\n",
        "\n",
        "# Seasonal monthly averages on training data\n",
        "train[\"moy\"] = train[\"month\"].dt.month\n",
        "seasonal_avg = train.groupby(\"moy\")[\"price\"].mean()\n",
        "\n",
        "# Predict 2024 by month-of-year\n",
        "pred_2024 = test_2024.copy()\n",
        "pred_2024[\"moy\"] = pred_2024[\"month\"].dt.month\n",
        "pred_2024[\"price\"] = pred_2024[\"moy\"].map(seasonal_avg)\n",
        "\n",
        "# Save required backtest file\n",
        "out_backtest = pred_2024[[\"month\",\"price\"]].copy()\n",
        "out_backtest[\"month\"] = out_backtest[\"month\"].astype(str)  # YYYY-MM\n",
        "out_backtest.to_csv(\"strawberry-backtest.tsv\", sep=\"\\t\", index=False)\n",
        "print(\"Wrote strawberry-backtest.tsv\")\n"
      ]
    },
    {
      "cell_type": "markdown",
      "metadata": {
        "id": "vzTi6z-skMoz"
      },
      "source": [
        "Submit \"strawberry-backtest.tsv\" in Gradescope."
      ]
    },
    {
      "cell_type": "markdown",
      "metadata": {
        "id": "T3D1ItqDnt9c"
      },
      "source": [
        "## Part 2: Backtest Errors\n",
        "\n",
        "What are the mean and standard deviation of the residuals between your backtest predictions and the ground truth? (If your mean is not close to zero, then you may be missing a long term trend.)\n",
        "\n",
        "Write the mean and standard deviation to a file \"backtest-accuracy.tsv\" with two columns, mean and std."
      ]
    },
    {
      "cell_type": "code",
      "execution_count": 2,
      "metadata": {
        "id": "3wxh46v8tnv8"
      },
      "outputs": [
        {
          "name": "stdout",
          "output_type": "stream",
          "text": [
            "Mean error: -0.0049 | Std dev: 0.2746\n"
          ]
        }
      ],
      "source": [
        "# YOUR CHANGES HERE\n",
        "\n",
        "import pandas as pd\n",
        "import numpy as np\n",
        "\n",
        "# Load actual and predicted 2024\n",
        "actual_2024 = df[(df[\"month\"] >= \"2024-01\") & (df[\"month\"] <= \"2024-12\")][[\"month\",\"price\"]] \\\n",
        "                .rename(columns={\"price\":\"actual\"}).copy()\n",
        "\n",
        "pred_2024 = pd.read_csv(\"strawberry-backtest.tsv\", sep=\"\\t\")\n",
        "pred_2024[\"month\"] = pd.to_datetime(pred_2024[\"month\"]).dt.to_period(\"M\")\n",
        "pred_2024 = pred_2024.rename(columns={\"price\":\"pred\"})\n",
        "\n",
        "# Join and compute errors\n",
        "eval_2024 = actual_2024.merge(pred_2024, on=\"month\", how=\"inner\")\n",
        "eval_2024[\"error\"] = eval_2024[\"actual\"] - eval_2024[\"pred\"]  # positive => underpredicted\n",
        "\n",
        "err_mean = float(eval_2024[\"error\"].mean())\n",
        "err_std  = float(eval_2024[\"error\"].std(ddof=1))\n",
        "\n",
        "pd.DataFrame([{\"mean_error\": err_mean, \"std_error\": err_std}]) \\\n",
        "  .to_csv(\"backtest-errors.tsv\", sep=\"\\t\", index=False)\n",
        "\n",
        "print(f\"Mean error: {err_mean:.4f} | Std dev: {err_std:.4f}\")\n"
      ]
    },
    {
      "cell_type": "markdown",
      "metadata": {
        "id": "Cq2d378QtnG9"
      },
      "source": [
        "Submit \"backtest-accuracy.tsv\" in Gradescope."
      ]
    },
    {
      "cell_type": "markdown",
      "metadata": {
        "id": "Pa4DWVrpj5mq"
      },
      "source": [
        "## Part 3: Forecast Strawberry Prices\n",
        "\n",
        "Use all the data from 2020 through 2024 to predict monthly prices in 2025 using the same methodology from part 1.\n",
        "Make a monthly forecast for each month of 2025 and save it as \"strawberry-forecast.tsv\" with columns for month and price."
      ]
    },
    {
      "cell_type": "code",
      "execution_count": 3,
      "metadata": {
        "id": "CiKoW3BrkJiS"
      },
      "outputs": [
        {
          "name": "stdout",
          "output_type": "stream",
          "text": [
            "Wrote strawberry-forecast.tsv\n"
          ]
        }
      ],
      "source": [
        "# YOUR CHANGES HERE\n",
        "\n",
        "import pandas as pd\n",
        "\n",
        "df_all = df.copy()\n",
        "df_all[\"moy\"] = df_all[\"month\"].dt.month\n",
        "\n",
        "# Seasonal average over 2020–2024\n",
        "seasonal_avg_25 = df_all[(df_all[\"month\"] >= \"2020-01\") & (df_all[\"month\"] <= \"2024-12\")] \\\n",
        "                     .groupby(\"moy\")[\"price\"].mean()\n",
        "\n",
        "# Construct 2025 months and map seasonal average\n",
        "months_2025 = pd.period_range(\"2025-01\", \"2025-12\", freq=\"M\")\n",
        "forecast_2025 = pd.DataFrame({\"month\": months_2025})\n",
        "forecast_2025[\"moy\"] = forecast_2025[\"month\"].dt.month\n",
        "forecast_2025[\"price\"] = forecast_2025[\"moy\"].map(seasonal_avg_25)\n",
        "\n",
        "out_forecast = forecast_2025[[\"month\",\"price\"]].copy()\n",
        "out_forecast[\"month\"] = out_forecast[\"month\"].astype(str)  # YYYY-MM\n",
        "out_forecast.to_csv(\"strawberry-forecast.tsv\", sep=\"\\t\", index=False)\n",
        "print(\"Wrote strawberry-forecast.tsv\")\n"
      ]
    },
    {
      "cell_type": "markdown",
      "metadata": {
        "id": "32lM_MPdico0"
      },
      "source": [
        "Submit \"strawberry-forecast.tsv\" in Gradescope."
      ]
    },
    {
      "cell_type": "markdown",
      "metadata": {
        "id": "SzCWxxaLi8MH"
      },
      "source": [
        "## Part 4: Buy Low, Freeze and Sell High\n",
        "\n",
        "Using your 2025 forecast, analyze the profit picking different pairs of months to buy and sell strawberries.\n",
        "Maximize your profit assuming that it costs &dollar;0.20 per pint to freeze the strawberries, &dollar;0.10 per pint per month to store the frozen strawberries and there is a 10% price discount from selling previously frozen strawberries.\n",
        "So, if you buy a pint of strawberies for &dollar;1, freeze them, and sell them for &dollar;2 three months after buying them, then the profit is &dollar;2 * 0.9 - &dollar;1 - &dollar;0.20 - &dollar;0.10 * 3 = &dollar;0.30 per pint.\n",
        "To evaluate a given pair of months, assume that you can invest &dollar;1,000,000 to cover all costs, and that you buy as many pints of strawberries as possible.\n",
        "\n",
        "Write the results of your analysis to a file \"timings.tsv\" with columns for the buy_month, sell_month, pints_purchased, and expected_profit."
      ]
    },
    {
      "cell_type": "code",
      "execution_count": 4,
      "metadata": {
        "id": "pGWQQvy6nkCk"
      },
      "outputs": [
        {
          "name": "stdout",
          "output_type": "stream",
          "text": [
            "Wrote timings.tsv\n"
          ]
        }
      ],
      "source": [
        "# YOUR CHANGES HERE\n",
        "\n",
        "import pandas as pd\n",
        "import numpy as np\n",
        "\n",
        "BUDGET = 1_000_000.00   # dollars\n",
        "FREEZE_COST = 0.20      # $/pint\n",
        "DISCOUNT = 0.10         # 10% off sell price for frozen strawberries\n",
        "\n",
        "forecast = pd.read_csv(\"strawberry-forecast.tsv\", sep=\"\\t\")\n",
        "forecast[\"month\"] = pd.to_datetime(forecast[\"month\"]).dt.to_period(\"M\")\n",
        "forecast = forecast.sort_values(\"month\").reset_index(drop=True)\n",
        "\n",
        "best = None\n",
        "rows = []\n",
        "\n",
        "for i, buy_row in forecast.iterrows():\n",
        "    for j, sell_row in forecast.iterrows():\n",
        "        if j <= i:\n",
        "            continue  # must sell after buy\n",
        "\n",
        "        buy_price = float(buy_row[\"price\"])\n",
        "        sell_price = float(sell_row[\"price\"])\n",
        "        if buy_price <= 0:\n",
        "            continue\n",
        "\n",
        "        # How many pints can we buy?\n",
        "        pints = int(BUDGET // buy_price)\n",
        "\n",
        "        # Profit per pint = (0.9 * sell_price) - buy_price - freeze_cost\n",
        "        realized_sell = (1.0 - DISCOUNT) * sell_price\n",
        "        profit_per_pint = realized_sell - buy_price - FREEZE_COST\n",
        "        total_profit = pints * profit_per_pint\n",
        "\n",
        "        candidate = {\n",
        "            \"buy_month\": str(buy_row[\"month\"]),\n",
        "            \"sell_month\": str(sell_row[\"month\"]),\n",
        "            \"pints_purchased\": pints,\n",
        "            \"expected_profit\": total_profit\n",
        "        }\n",
        "        rows.append(candidate)\n",
        "\n",
        "        if best is None or total_profit > best[\"expected_profit\"]:\n",
        "            best = candidate\n",
        "\n",
        "timings = pd.DataFrame(rows).sort_values(\"expected_profit\", ascending=False).reset_index(drop=True)\n",
        "pd.DataFrame([best]).to_csv(\"timings.tsv\", sep=\"\\t\", index=False)\n",
        "\n",
        "print(\"Wrote timings.tsv\")\n"
      ]
    },
    {
      "cell_type": "markdown",
      "metadata": {
        "id": "XAWzFd54nlxI"
      },
      "source": [
        "Submit \"timings.tsv\" in Gradescope."
      ]
    },
    {
      "cell_type": "markdown",
      "metadata": {
        "id": "LdrZE8qKCDUv"
      },
      "source": [
        "## Part 5: Strategy Check\n",
        "\n",
        "What is the best profit scenario according to your previous timing analysis?\n",
        "How much does that profit change if the sell price is off by one standard deviation from your backtest analysis?\n",
        "(Variation in the sell price is more dangerous because you can see the buy price before fully committing.)\n",
        "\n",
        "Write the results to a file \"check.tsv\" with columns best_profit and one_std_profit."
      ]
    },
    {
      "cell_type": "code",
      "execution_count": 5,
      "metadata": {
        "id": "7HvYBo_wt8Rv"
      },
      "outputs": [
        {
          "name": "stdout",
          "output_type": "stream",
          "text": [
            "Wrote check.tsv\n"
          ]
        }
      ],
      "source": [
        "# YOUR CHANGES HERE\n",
        "\n",
        "import pandas as pd\n",
        "\n",
        "best = pd.read_csv(\"timings.tsv\", sep=\"\\t\").iloc[0].to_dict()\n",
        "buy_month = pd.Period(best[\"buy_month\"], freq=\"M\")\n",
        "sell_month = pd.Period(best[\"sell_month\"], freq=\"M\")\n",
        "pints = int(best[\"pints_purchased\"])\n",
        "\n",
        "forecast = pd.read_csv(\"strawberry-forecast.tsv\", sep=\"\\t\")\n",
        "forecast[\"month\"] = pd.to_datetime(forecast[\"month\"]).dt.to_period(\"M\")\n",
        "\n",
        "buy_price  = float(forecast.loc[forecast[\"month\"] == buy_month,  \"price\"].iloc[0])\n",
        "sell_price = float(forecast.loc[forecast[\"month\"] == sell_month, \"price\"].iloc[0])\n",
        "\n",
        "FREEZE_COST = 0.20\n",
        "DISCOUNT = 0.10\n",
        "\n",
        "# Baseline best profit\n",
        "realized_sell = (1.0 - DISCOUNT) * sell_price\n",
        "profit_per_pint = realized_sell - buy_price - FREEZE_COST\n",
        "best_profit = pints * profit_per_pint\n",
        "\n",
        "# Load backtest error std\n",
        "err_stats = pd.read_csv(\"backtest-errors.tsv\", sep=\"\\t\")\n",
        "err_std = float(err_stats[\"std_error\"].iloc[0])\n",
        "\n",
        "# One-std-down sell price scenario\n",
        "sell_price_down = sell_price - err_std\n",
        "realized_sell_down = (1.0 - DISCOUNT) * sell_price_down\n",
        "profit_per_pint_down = realized_sell_down - buy_price - FREEZE_COST\n",
        "one_std_profit = pints * profit_per_pint_down\n",
        "\n",
        "pd.DataFrame([{\"best_profit\": best_profit, \"one_std_profit\": one_std_profit}]) \\\n",
        "  .to_csv(\"check.tsv\", sep=\"\\t\", index=False)\n",
        "\n",
        "print(\"Wrote check.tsv\")\n"
      ]
    },
    {
      "cell_type": "markdown",
      "metadata": {
        "id": "M--8x-ZMEKAi"
      },
      "source": [
        "Submit \"check.tsv\" in Gradescope."
      ]
    },
    {
      "cell_type": "markdown",
      "metadata": {
        "id": "usYg0VtaqrGN"
      },
      "source": [
        "## Part 6: Acknowledgments\n",
        "\n",
        "Make a file \"acknowledgments.txt\" documenting any outside sources or help on this project.\n",
        "If you discussed this assignment with anyone, please acknowledge them here.\n",
        "If you used any libraries not mentioned in this module's content, please list them with a brief explanation what you used them for.\n",
        "If you used any generative AI tools, please add links to your transcripts below, and any other information that you feel is necessary to comply with the generative AI policy.\n",
        "If no acknowledgments are appropriate, just write none in the file.\n"
      ]
    },
    {
      "cell_type": "code",
      "execution_count": 1,
      "metadata": {},
      "outputs": [
        {
          "name": "stdout",
          "output_type": "stream",
          "text": [
            "Wrote acknowledgement.txt\n",
            "\n",
            "--- acknowledgement.txt ---\n",
            "Acknowledgement\n",
            "\n",
            "Per Part 6, I am providing a brief written statement about my process and any tools used.\n",
            "I used generative AI tools to understand the assignment requirements and to help structure\n",
            "and implement the steps needed to create the required files. Specifically, I used generative\n",
            "AI to understand and effectively make the backtest file (strawberry-backtest.tsv) and the\n",
            "forecast file (strawberry-forecast.tsv). I reviewed and executed the code myself and accept\n",
            "responsibility for the submitted work.\n",
            "\n"
          ]
        }
      ],
      "source": [
        "from pathlib import Path\n",
        "\n",
        "text = \"\"\"Acknowledgement\n",
        "\n",
        "Per Part 6, I am providing a brief written statement about my process and any tools used.\n",
        "I used generative AI tools to understand the assignment requirements and to help structure\n",
        "and implement the steps needed to create the required files. Specifically, I used generative\n",
        "AI to understand and effectively make the backtest file (strawberry-backtest.tsv) and the\n",
        "forecast file (strawberry-forecast.tsv). I reviewed and executed the code myself and accept\n",
        "responsibility for the submitted work.\n",
        "\"\"\"\n",
        "\n",
        "Path(\"acknowledgement.txt\").write_text(text, encoding=\"utf-8\")\n",
        "print(\"Wrote acknowledgement.txt\")\n",
        "\n",
        "# (Optional) show the file contents to confirm\n",
        "print(\"\\n--- acknowledgement.txt ---\")\n",
        "print(Path(\"acknowledgement.txt\").read_text(encoding=\"utf-8\"))"
      ]
    },
    {
      "cell_type": "markdown",
      "metadata": {
        "id": "dZdLWQD8qvVV"
      },
      "source": [
        "Submit \"acknowledgments.txt\" in Gradescope."
      ]
    },
    {
      "cell_type": "markdown",
      "metadata": {
        "id": "n7ls909LqzkL"
      },
      "source": [
        "## Part 7: Code\n",
        "\n",
        "Please submit a Jupyter notebook that can reproduce all your calculations and recreate the previously submitted files.\n",
        "You do not need to provide code for data collection if you did that by manually."
      ]
    },
    {
      "cell_type": "markdown",
      "metadata": {
        "id": "mtgsTYQIq2pB"
      },
      "source": [
        "Submit \"project.ipynb\" in Gradescope."
      ]
    }
  ],
  "metadata": {
    "colab": {
      "toc_visible": false
    },
    "kernelspec": {
      "display_name": "Python 3",
      "name": "python3"
    },
    "language_info": {
      "codemirror_mode": {
        "name": "ipython",
        "version": 3
      },
      "file_extension": ".py",
      "mimetype": "text/x-python",
      "name": "python",
      "nbconvert_exporter": "python",
      "pygments_lexer": "ipython3",
      "version": "3.12.1"
    }
  },
  "nbformat": 4,
  "nbformat_minor": 0
}
