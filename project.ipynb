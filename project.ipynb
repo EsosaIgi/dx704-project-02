{
  "cells": [
    {
      "cell_type": "markdown",
      "metadata": {
        "id": "7aZ_blKrRZ3H"
      },
      "source": [
        "# DX 704 Week 2 Project",
        "\n",
        "This week's project will analyze fresh strawberry price data for a hypothetical \"buy low, freeze, and sell high\" business.\n",
        "Strawberries show strong seasonality in their prices compared to other fruits.\n",
        "\n",
        "![](https://ers.usda.gov/sites/default/files/_laserfiche/Charts/61401/oct14_finding_plattner_fig01.png)\n",
        "\n",
        "Image source: https://www.ers.usda.gov/amber-waves/2014/october/seasonal-fresh-fruit-price-patterns-differ-across-commodities-the-case-of-strawberries-and-apples\n",
        "\n",
        "You are considering a business where you buy strawberries when the prices are very low, carefully freeze them, even more carefully defrost them, and then sell them when the prices are high.\n",
        "You will forecast strawberry price time series and then use them to tactically pick times to buy, freeze, and sell the strawberries."
      ]
    },
    {
      "cell_type": "markdown",
      "metadata": {
        "id": "g1rddBd6_teG"
      },
      "source": [
        "The full project description, a template notebook, and raw data are available on GitHub at the following link.\n",
        "\n",
        "https://github.com/bu-cds-dx704/dx704-project-02\n"
      ]
    },
    {
      "cell_type": "markdown",
      "metadata": {
        "id": "B7jHqNiZBXzD"
      },
      "source": [
        "## Part 1: Backtest Strawberry Prices\n",
        "\n",
        "Read the provided \"strawberry-prices.tsv\" with data from 2000 through 2024.\n",
        "This data is based on data from the U.S. Bureau of Statistics, but transformed so the ground truth is not online.\n",
        "https://fred.stlouisfed.org/series/APU0000711415\n",
        "\n",
        "Use the data for 2000 through 2023 to predict monthly prices in 2024.\n",
        "Spend some time to make sure you are happy with your methodology and prediction accuracy, since you will reuse the methodology to forecast 2025 next.\n",
        "Save the 2024 backtest predictions as \"strawberry-backtest.tsv\" with columns month and price.\n"
      ]
    },
    {
      "cell_type": "code",
      "execution_count": null,
      "metadata": {
        "id": "T8OLCmHbiaoK"
      },
      "outputs": [],
      "source": [
        "# YOUR CHANGES HERE\n",
        "\n",
        "..."
      ]
    },
    {
      "cell_type": "markdown",
      "metadata": {
        "id": "vzTi6z-skMoz"
      },
      "source": [
        "Submit \"strawberry-backtest.tsv\" in Gradescope."
      ]
    },
    {
      "cell_type": "markdown",
      "metadata": {
        "id": "T3D1ItqDnt9c"
      },
      "source": [
        "## Part 2: Backtest Errors\n",
        "\n",
        "What are the mean and standard deviation of the residuals between your backtest predictions and the ground truth? (If your mean is not close to zero, then you may be missing a long term trend.)\n",
        "\n",
        "Write the mean and standard deviation to a file \"backtest-accuracy.tsv\" with two columns, mean and stdev."
      ]
    },
    {
      "cell_type": "code",
      "execution_count": null,
      "metadata": {
        "id": "3wxh46v8tnv8"
      },
      "outputs": [],
      "source": [
        "# YOUR CHANGES HERE\n",
        "\n",
        "..."
      ]
    },
    {
      "cell_type": "markdown",
      "metadata": {
        "id": "Cq2d378QtnG9"
      },
      "source": [
        "Submit \"backtest-accuracy.tsv\" in Gradescope."
      ]
    },
    {
      "cell_type": "markdown",
      "metadata": {
        "id": "Pa4DWVrpj5mq"
      },
      "source": [
        "## Part 3: Forecast Strawberry Prices\n",
        "\n",
        "Use all the data from 2000 through 2024 to predict monthly prices in 2025 using the same methodology from part 1.\n",
        "Make a monthly forecast for each month of 2025 and save it as \"strawberry-forecast.tsv\" with columns for month and price."
      ]
    },
    {
      "cell_type": "code",
      "execution_count": null,
      "metadata": {
        "id": "CiKoW3BrkJiS"
      },
      "outputs": [],
      "source": [
        "# YOUR CHANGES HERE\n",
        "\n",
        "..."
      ]
    },
    {
      "cell_type": "markdown",
      "metadata": {
        "id": "32lM_MPdico0"
      },
      "source": [
        "Submit \"strawberry-forecast.tsv\" in Gradescope."
      ]
    },
    {
      "cell_type": "markdown",
      "metadata": {
        "id": "SzCWxxaLi8MH"
      },
      "source": [
        "## Part 4: Buy Low, Freeze and Sell High\n",
        "\n",
        "Using your 2025 forecast, analyze the profit picking different pairs of months to buy and sell strawberries.\n",
        "Maximize your profit assuming that it costs \\$0.20 per pint to freeze the strawberries, \\$0.10 per pint per month to store the frozen strawberries and there is a 20% price discount from selling previously frozen strawberries.\n",
        "So, if you buy a pint of strawberies for \\$1, freeze them, and sell them for \\$2 three months after buying them, then the profit is \\$2 * 0.8 - \\$1 - \\$0.20 - \\$0.10 * 3 = \\$0.10 per pint.\n",
        "To evaluate a given pair of months, assume that you can invest \\$1,000,000 to cover all costs, and that you buy as many pints of strawberries as possible.\n",
        "\n",
        "Write the results of your analysis to a file \"timings.tsv\" with columns for the buy month, sell month, number of pints purchased, and expected total profit."
      ]
    },
    {
      "cell_type": "code",
      "execution_count": null,
      "metadata": {
        "id": "pGWQQvy6nkCk"
      },
      "outputs": [],
      "source": [
        "# YOUR CHANGES HERE\n",
        "\n",
        "..."
      ]
    },
    {
      "cell_type": "markdown",
      "metadata": {
        "id": "XAWzFd54nlxI"
      },
      "source": [
        "Submit \"timings.tsv\" in Gradescope."
      ]
    },
    {
      "cell_type": "markdown",
      "metadata": {
        "id": "LdrZE8qKCDUv"
      },
      "source": [
        "## Part 4: Strategy Check\n",
        "\n",
        "What is the best profit scenario according to your previous timing analysis?\n",
        "How much does that profit change if the sell price is off by one standard deviation from your backtest analysis?\n",
        "(Variation in the sell price is more dangerous because you can see the buy price before fully committing.)\n",
        "\n",
        "Write the results to a file \"check.tsv\" with columns best_profit and one_stdev_profit."
      ]
    },
    {
      "cell_type": "code",
      "execution_count": null,
      "metadata": {
        "id": "7HvYBo_wt8Rv"
      },
      "outputs": [],
      "source": [
        "# YOUR CHANGES HERE\n",
        "\n",
        "..."
      ]
    },
    {
      "cell_type": "markdown",
      "metadata": {
        "id": "M--8x-ZMEKAi"
      },
      "source": [
        "Submit \"check.tsv\" in Gradescope."
      ]
    }
  ],
  "metadata": {
    "colab": {
      "toc_visible": false
    },
    "kernelspec": {
      "display_name": "Python 3",
      "name": "python3"
    },
    "language_info": {
      "codemirror_mode": {
        "name": "ipython",
        "version": 3
      },
      "file_extension": ".py",
      "mimetype": "text/x-python",
      "name": "python",
      "nbconvert_exporter": "python",
      "pygments_lexer": "ipython3",
      "version": "3.9.6"
    }
  },
  "nbformat": 4,
  "nbformat_minor": 0
}